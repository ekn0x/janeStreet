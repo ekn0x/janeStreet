{
 "metadata": {
  "language_info": {
   "codemirror_mode": {
    "name": "ipython",
    "version": 3
   },
   "file_extension": ".py",
   "mimetype": "text/x-python",
   "name": "python",
   "nbconvert_exporter": "python",
   "pygments_lexer": "ipython3",
   "version": "3.9.1"
  },
  "orig_nbformat": 2,
  "kernelspec": {
   "name": "python391jvsc74a57bd0ac59ebe37160ed0dfa835113d9b8498d9f09ceb179beaac4002f036b9467c963",
   "display_name": "Python 3.9.1 64-bit"
  },
  "metadata": {
   "interpreter": {
    "hash": "ac59ebe37160ed0dfa835113d9b8498d9f09ceb179beaac4002f036b9467c963"
   }
  }
 },
 "nbformat": 4,
 "nbformat_minor": 2,
 "cells": [
  {
   "source": [
    "# Jane Street\n",
    "## April 2021 challenge"
   ],
   "cell_type": "markdown",
   "metadata": {}
  },
  {
   "source": [
    "# Puzzle statement:\n",
    "There’s a certain insanity in the air this time of the year that gets us thinking about tournament brackets.  Consider a tournament with 16 competitors, seeded 1-16, and arranged in the single-elimination bracket pictured below (identical to a “region” of the NCAA Division 1 basketball tournament). Assume that when the X-seed plays the Y-seed, the X-seed has a Y/(X+Y) probability of winning. E.g. in the first round, the 5-seed has a 12/17 chance of beating the 12-seed.\n",
    "\n",
    "Suppose the 2-seed has the chance to secretly swap two teams’ placements in the bracket before the tournament begins. So, for example, say they choose to swap the 8- and 16-seeds. Then the 8-seed would play their first game against the 1-seed and have a 1/9 chance of advancing to the next round, and the 16-seed would play their first game against the 9-seed and have a 9/25 chance of advancing.\n",
    "\n",
    "What seeds should the 2-seed swap to maximize their (the 2-seed’s) probability of winning the tournament, and how much does the swap increase that probability? Give your answer to six significant figures.\n",
    "\n",
    "# Solution\n",
    "We can break the solution into two parts:\n",
    "<ol>\n",
    "<li>Assess what is the probability that 2 wins (Done)</li>\n",
    "<li>Maximize the likelihood that 2 wins, by applying one swap only (Done)</li>\n",
    "</ol>"
   ],
   "cell_type": "markdown",
   "metadata": {}
  },
  {
   "cell_type": "code",
   "execution_count": 1,
   "metadata": {},
   "outputs": [],
   "source": [
    "class Node():\n",
    "    def __init__(self, left:list, right:list):\n",
    "        self.left = left\n",
    "        self.right = right\n",
    "\n",
    "        self.computeProbability()\n",
    "\n",
    "    def computeProbability(self):\n",
    "        # this function could be improve by joining the four loop\n",
    "        # use dictionary instead of list of tuple? easier access\n",
    "        self.probabilities = []\n",
    "        # compute left probability\n",
    "        for l in self.left:\n",
    "            innerp = 0 # init inner probability\n",
    "            \n",
    "            for r in self.right:\n",
    "                innerp = innerp + (r[0]/(l[0]+r[0])) * r[1]\n",
    "\n",
    "                \n",
    "            # flatten probability\n",
    "            p = l[1] * innerp\n",
    "            self.probabilities.append((l[0], p))\n",
    "        \n",
    "        # compute right probability\n",
    "        for r in self.right:\n",
    "            innerp = 0 # init inner probability\n",
    "            \n",
    "            for l in self.left:\n",
    "                innerp = innerp + (l[0]/(r[0]+l[0])) * l[1]\n",
    "                \n",
    "            # flatten probability\n",
    "            p = r[1] * innerp\n",
    "            self.probabilities.append((r[0], p))\n",
    "\n",
    "\n",
    "    def evalNodeOutput(self):\n",
    "        # test probabilities:\n",
    "        totalProbability = 0\n",
    "        for ea in self.probabilities:\n",
    "            print('{:d} has a probability of wining of {:0.8f}'.format(ea[0], ea[1]))\n",
    "            totalProbability = totalProbability + ea[1]\n",
    "        \n",
    "        if totalProbability <= 0.99999999 or totalProbability >=1.000000001: # this will negate epsilon value; \n",
    "            print('there is a problem, sum of probability is not equal to 1;  {:0.8f}'.format(totalProbability))\n",
    "\n",
    "    def output(self):\n",
    "        # order the solution; this isn't necessary but it will beautify the final output\n",
    "        partialList = self.probabilities\n",
    "        partialList.sort(key=lambda tup:tup[0])\n",
    "        return partialList "
   ]
  },
  {
   "cell_type": "code",
   "execution_count": 2,
   "metadata": {},
   "outputs": [],
   "source": [
    "def evalProbabilities(pairs):\n",
    "    # to generalize the notebook, there could be a discovery part based on the length of the input pairs\n",
    "    #print('Enviable 8')\n",
    "    l1n1 = Node([(pairs[0], 1)], [(pairs[1], 1)])\n",
    "    l1n2 = Node([(pairs[2], 1)], [(pairs[3], 1)])\n",
    "    l1n3 = Node([(pairs[4], 1)], [(pairs[5], 1)])\n",
    "    l1n4 = Node([(pairs[6], 1)], [(pairs[7], 1)])\n",
    "    l1n5 = Node([(pairs[8], 1)], [(pairs[9], 1)])\n",
    "    l1n6 = Node([(pairs[10], 1)], [(pairs[11], 1)])\n",
    "    l1n7 = Node([(pairs[12], 1)], [(pairs[13], 1)])\n",
    "    l1n8 = Node([(pairs[14], 1)], [(pairs[15], 1)])\n",
    "    #print('Fairly good 4')\n",
    "    l2n1 = Node(l1n1.output(), l1n2.output())\n",
    "    l2n2 = Node(l1n3.output(), l1n4.output())\n",
    "    l2n3 = Node(l1n5.output(), l1n6.output())\n",
    "    l2n4 = Node(l1n7.output(), l1n8.output())\n",
    "    #print('Thrilling 2')\n",
    "    l3n1 = Node(l2n1.output(), l2n2.output())\n",
    "    l3n2 = Node(l2n3.output(), l2n4.output())\n",
    "    #print('Only 1')\n",
    "    l4n1 = Node(l3n1.output(), l3n2.output())\n",
    "    # return result\n",
    "    return l4n1.output()"
   ]
  },
  {
   "cell_type": "code",
   "execution_count": 3,
   "metadata": {},
   "outputs": [
    {
     "output_type": "stream",
     "name": "stdout",
     "text": [
      "Team  1 has a probability of winning of 0.5192184\nTeam  2 has a probability of winning of 0.2160397\nTeam  3 has a probability of winning of 0.1067895\nTeam  4 has a probability of winning of 0.0566863\nTeam  5 has a probability of winning of 0.0335615\nTeam  6 has a probability of winning of 0.0217986\nTeam  7 has a probability of winning of 0.0140066\nTeam  8 has a probability of winning of 0.0087412\nTeam  9 has a probability of winning of 0.0061365\nTeam 10 has a probability of winning of 0.0048489\nTeam 11 has a probability of winning of 0.0036735\nTeam 12 has a probability of winning of 0.0026671\nTeam 13 has a probability of winning of 0.0020387\nTeam 14 has a probability of winning of 0.0016381\nTeam 15 has a probability of winning of 0.0012518\nTeam 16 has a probability of winning of 0.0009036\nTotal probability is equal to 1.0000000\n"
     ]
    }
   ],
   "source": [
    "# define the pairs\n",
    "initialPairs = [1, 16, 8, 9, 5, 12, 4, 13, 6, 11, 3, 14, 7, 10, 2, 15]\n",
    "initialWinRate = evalProbabilities(initialPairs)\n",
    "totalProbability = 0\n",
    "for ea in initialWinRate:\n",
    "    print('Team {:2d} has a probability of winning of {:0.7f}'.format(ea[0], ea[1]))\n",
    "    totalProbability = totalProbability + ea[1]\n",
    "print('Total probability is equal to {:0.7f}'.format(totalProbability))"
   ]
  },
  {
   "source": [
    "# Observation\n",
    "As expected, the definition of the problem gives a lot more advantage when a small number face a much bigger number $\\frac{Y}{(X+Y)}$   \n",
    "\n",
    "# Solving for best possible swap \n",
    "Considering the maximum possible number of permutation ($16 \\times 15$) is $240$\n",
    "It isn't that many, in this case a greedy algorithm is radically easier to implement thant to implement the policies for more advance optimization techniques\n",
    "Therefore, a greedy implement is sufficient efficient to be chosen."
   ],
   "cell_type": "markdown",
   "metadata": {}
  },
  {
   "cell_type": "code",
   "execution_count": 4,
   "metadata": {},
   "outputs": [],
   "source": [
    "# swap function definition\n",
    "def swap(pool, p1, p2):\n",
    "    t = pool[p1]\n",
    "    pool[p1] = pool[p2]\n",
    "    pool[p2] = t\n",
    "    # return is moot because the way Python is developped\n",
    "    # the variable pool is pass as a reference instead of a value"
   ]
  },
  {
   "cell_type": "code",
   "execution_count": 6,
   "metadata": {
    "tags": []
   },
   "outputs": [
    {
     "output_type": "stream",
     "name": "stdout",
     "text": [
      "Initial win rate for 2 is 0.216040\nThe team swap that increase team 2 the most is\nswapping team 16 for team  3.\nThis swap improve team  2 of winning by 0.065580, from 0.216040 to 0.281619\n"
     ]
    }
   ],
   "source": [
    "initialPairs = [1, 16, 8, 9, 5, 12, 4, 13, 6, 11, 3, 14, 7, 10, 2, 15]\n",
    "initialWinRate = evalProbabilities(initialPairs)\n",
    "bestWinRate2 = initialWinRate[1][1]\n",
    "print('Initial win rate for 2 is {:0.6f}'.format(bestWinRate2))\n",
    "\n",
    "# initialize all of the possible permutation\n",
    "swapList = []\n",
    "for i in range(0, 16):\n",
    "    for j in range(0, 16):\n",
    "        if i != j:\n",
    "            swapList.append((i,j))\n",
    "\n",
    "deltaWinRate = []\n",
    "\n",
    "for s in swapList:\n",
    "    # the re initialization of the initial pairs is necessary because of the way python pass list to function\n",
    "    # not doing that make a swap on the previously swapped list\n",
    "    pool = [1, 16, 8, 9, 5, 12, 4, 13, 6, 11, 3, 14, 7, 10, 2, 15]\n",
    "    swap(pool, s[0], s[1])\n",
    "\n",
    "    # evaluate the win probability\n",
    "    currWinRate = evalProbabilities(pool)\n",
    "    currWinRate2 = currWinRate[1][1]\n",
    "\n",
    "    # check if current swap yields a better result\n",
    "    if currWinRate2 > bestWinRate2:\n",
    "        bestWinRate2 = currWinRate2\n",
    "        bestSwap = (s[0], s[1], bestWinRate2)\n",
    "\n",
    "# print out the best combination\n",
    "print('The team swap that increase team 2 the most is')\n",
    "print('swapping team {:2d} for team {:2d}.'.format(initialPairs[bestSwap[0]], initialPairs[bestSwap[1]]))\n",
    "print('This swap improve team  2 of winning by {:0.6f}, from {:0.6f} to {:0.6f}'.format(bestSwap[2]-initialWinRate[1][1], initialWinRate[1][1], bestSwap[2]))"
   ]
  }
 ]
}